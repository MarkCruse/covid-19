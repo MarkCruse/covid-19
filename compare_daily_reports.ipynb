{
 "cells": [
  {
   "cell_type": "markdown",
   "metadata": {},
   "source": [
    "## JHU COVID-19 Comparing Daily Reports Data  "
   ]
  },
  {
   "cell_type": "markdown",
   "metadata": {},
   "source": [
    "The purpose of the notebook is to evaluate the coronavirus (COVID-19) data provided by the Center for Systems Science and Engineering (CSSE) at Johns Hopkins University (JHU). \n",
    "\n",
    "__Data Source:__  [CSSE-JHU COVID-19 data repository](https://github.com/CSSEGISandData/COVID-19)"
   ]
  },
  {
   "cell_type": "markdown",
   "metadata": {},
   "source": [
    "#### Python Libraries"
   ]
  },
  {
   "cell_type": "code",
   "execution_count": 1,
   "metadata": {},
   "outputs": [],
   "source": [
    "import pandas as pd\n",
    "from pathlib import Path"
   ]
  },
  {
   "cell_type": "markdown",
   "metadata": {},
   "source": [
    "#### Load csv data into dataframes"
   ]
  },
  {
   "cell_type": "code",
   "execution_count": 2,
   "metadata": {},
   "outputs": [],
   "source": [
    "start_date = 20200322  #date of first KY confirmed case\n",
    "end_date = 20200326  # last date of old file format\n",
    "filePath = Path(\"data\")   # the file path for data\n",
    "flag=0"
   ]
  },
  {
   "cell_type": "markdown",
   "metadata": {},
   "source": [
    "#### Load csv data into dataframes"
   ]
  },
  {
   "cell_type": "code",
   "execution_count": 15,
   "metadata": {},
   "outputs": [
    {
     "name": "stdout",
     "output_type": "stream",
     "text": [
      "03-22-2020.csv 03-23-2020.csv\n"
     ]
    }
   ],
   "source": [
    "file_name1=str(start_date)\n",
    "file_name1=file_name1[4:6]+'-'+file_name1[6:8]+'-'+file_name1[:4]+'.csv'\n",
    "file_name2=str(start_date+1)\n",
    "file_name2=file_name2[4:6]+'-'+file_name2[6:8]+'-'+file_name2[:4]+'.csv'\n",
    "print (file_name1,file_name2)"
   ]
  },
  {
   "cell_type": "code",
   "execution_count": 47,
   "metadata": {},
   "outputs": [
    {
     "name": "stdout",
     "output_type": "stream",
     "text": [
      "Length of dataframe: 20\n"
     ]
    }
   ],
   "source": [
    "daily_rpts_url1 = 'https://github.com/CSSEGISandData/COVID-19/raw/master/csse_covid_19_data/csse_covid_19_daily_reports/'+file_name1\n",
    "\n",
    "daily_df1 = pd.read_csv(daily_rpts_url1, dtype={'FIPS': str})\n",
    "\n",
    "ky_daily_df1 = daily_df1[(daily_df1.Province_State=='Kentucky') & (daily_df1.Confirmed > 0)].copy()\n",
    "print('Length of dataframe:', len(ky_daily_df))\n",
    "ky_daily_df1[['Confirmed','Deaths']].sum(axis = 0, skipna = True) \n",
    "\n",
    "ky_daily_df1['date']=str(start_date)\n",
    "df1_list=ky_daily_df1[['Admin2','Confirmed','date']]"
   ]
  },
  {
   "cell_type": "code",
   "execution_count": 48,
   "metadata": {},
   "outputs": [
    {
     "name": "stdout",
     "output_type": "stream",
     "text": [
      "Length of dataframe: 27\n"
     ]
    }
   ],
   "source": [
    "daily_rpts_url2 = 'https://github.com/CSSEGISandData/COVID-19/raw/master/csse_covid_19_data/csse_covid_19_daily_reports/'+file_name2\n",
    "\n",
    "daily_df2 = pd.read_csv(daily_rpts_url2, dtype={'FIPS': str})\n",
    "\n",
    "ky_daily_df2 = daily_df2[(daily_df2.Province_State=='Kentucky') & (daily_df2.Confirmed > 0)].copy()\n",
    "print('Length of dataframe:', len(ky_daily_df2))\n",
    "ky_daily_df2[['Confirmed','Deaths']].sum(axis = 0, skipna = True) \n",
    "\n",
    "ky_daily_df2['date']=str(start_date)\n",
    "df2_list=ky_daily_df2[['Admin2','Confirmed','date']]"
   ]
  },
  {
   "cell_type": "code",
   "execution_count": 33,
   "metadata": {},
   "outputs": [
    {
     "ename": "TypeError",
     "evalue": "unhashable type: 'list'",
     "output_type": "error",
     "traceback": [
      "\u001b[0;31m---------------------------------------------------------------------------\u001b[0m",
      "\u001b[0;31mTypeError\u001b[0m                                 Traceback (most recent call last)",
      "\u001b[0;32m<ipython-input-33-6d91a5a2052a>\u001b[0m in \u001b[0;36m<module>\u001b[0;34m\u001b[0m\n\u001b[0;32m----> 1\u001b[0;31m \u001b[0mset\u001b[0m\u001b[0;34m(\u001b[0m\u001b[0mdf1_list\u001b[0m\u001b[0;34m)\u001b[0m\u001b[0;34m.\u001b[0m\u001b[0mdifference\u001b[0m\u001b[0;34m(\u001b[0m\u001b[0mset\u001b[0m\u001b[0;34m(\u001b[0m\u001b[0mdf2_list\u001b[0m\u001b[0;34m)\u001b[0m\u001b[0;34m)\u001b[0m\u001b[0;34m\u001b[0m\u001b[0;34m\u001b[0m\u001b[0m\n\u001b[0m",
      "\u001b[0;31mTypeError\u001b[0m: unhashable type: 'list'"
     ]
    }
   ],
   "source": [
    "set(df1_list).difference(set(df2_list))"
   ]
  },
  {
   "cell_type": "code",
   "execution_count": 38,
   "metadata": {},
   "outputs": [],
   "source": [
    "differences = []\n",
    "\n",
    "for list in df1_list:\n",
    "    if list not in df2_list:\n",
    "        differences.append(list)"
   ]
  },
  {
   "cell_type": "code",
   "execution_count": 39,
   "metadata": {},
   "outputs": [
    {
     "data": {
      "text/plain": [
       "[['Unassigned', 39, '20200322'],\n",
       " ['Jefferson', 25, '20200322'],\n",
       " ['Fayette', 10, '20200322'],\n",
       " ['Harrison', 7, '20200322'],\n",
       " ['Warren', 2, '20200322'],\n",
       " ['Pulaski', 2, '20200322'],\n",
       " ['Kenton', 1, '20200322'],\n",
       " ['Daviess', 1, '20200322'],\n",
       " ['Anderson', 1, '20200322'],\n",
       " ['Christian', 1, '20200322'],\n",
       " ['Franklin', 1, '20200322'],\n",
       " ['Hardin', 1, '20200322']]"
      ]
     },
     "execution_count": 39,
     "metadata": {},
     "output_type": "execute_result"
    }
   ],
   "source": [
    "differences"
   ]
  },
  {
   "cell_type": "code",
   "execution_count": 41,
   "metadata": {},
   "outputs": [
    {
     "data": {
      "text/plain": [
       "[]"
      ]
     },
     "execution_count": 41,
     "metadata": {},
     "output_type": "execute_result"
    }
   ],
   "source": [
    "differences2 = []\n",
    "\n",
    "for list in df2_list:\n",
    "    if list not in df1_list:\n",
    "        differences.append(list)\n",
    "differences2"
   ]
  },
  {
   "cell_type": "code",
   "execution_count": 42,
   "metadata": {},
   "outputs": [
    {
     "data": {
      "text/plain": [
       "[['Anderson', 2, '20200322'],\n",
       " ['Bourbon', 2, '20200322'],\n",
       " ['Breathitt', 1, '20200322'],\n",
       " ['Calloway', 1, '20200322'],\n",
       " ['Christian', 2, '20200322'],\n",
       " ['Clark', 2, '20200322'],\n",
       " ['Daviess', 11, '20200322'],\n",
       " ['Fayette', 15, '20200322'],\n",
       " ['Franklin', 2, '20200322'],\n",
       " ['Hardin', 2, '20200322'],\n",
       " ['Harrison', 8, '20200322'],\n",
       " ['Henderson', 2, '20200322'],\n",
       " ['Jefferson', 33, '20200322'],\n",
       " ['Jessamine', 1, '20200322'],\n",
       " ['Kenton', 5, '20200322'],\n",
       " ['Lyon', 1, '20200322'],\n",
       " ['Madison', 2, '20200322'],\n",
       " ['Martin', 1, '20200322'],\n",
       " ['Menifee', 1, '20200322'],\n",
       " ['Montgomery', 2, '20200322'],\n",
       " ['Muhlenberg', 2, '20200322'],\n",
       " ['Nelson', 1, '20200322'],\n",
       " ['Oldham', 1, '20200322'],\n",
       " ['Pulaski', 3, '20200322'],\n",
       " ['Spencer', 1, '20200322'],\n",
       " ['Unassigned', 15, '20200322'],\n",
       " ['Warren', 4, '20200322']]"
      ]
     },
     "execution_count": 42,
     "metadata": {},
     "output_type": "execute_result"
    }
   ],
   "source": [
    "df2_list"
   ]
  },
  {
   "cell_type": "code",
   "execution_count": 56,
   "metadata": {},
   "outputs": [
    {
     "data": {
      "text/html": [
       "<div>\n",
       "<style scoped>\n",
       "    .dataframe tbody tr th:only-of-type {\n",
       "        vertical-align: middle;\n",
       "    }\n",
       "\n",
       "    .dataframe tbody tr th {\n",
       "        vertical-align: top;\n",
       "    }\n",
       "\n",
       "    .dataframe thead th {\n",
       "        text-align: right;\n",
       "    }\n",
       "</style>\n",
       "<table border=\"1\" class=\"dataframe\">\n",
       "  <thead>\n",
       "    <tr style=\"text-align: right;\">\n",
       "      <th></th>\n",
       "      <th>Admin2</th>\n",
       "      <th>Confirmed_x</th>\n",
       "      <th>date_x</th>\n",
       "      <th>Confirmed_y</th>\n",
       "      <th>date_y</th>\n",
       "      <th>diff</th>\n",
       "    </tr>\n",
       "  </thead>\n",
       "  <tbody>\n",
       "    <tr>\n",
       "      <th>0</th>\n",
       "      <td>Unassigned</td>\n",
       "      <td>39</td>\n",
       "      <td>20200322</td>\n",
       "      <td>15</td>\n",
       "      <td>20200322</td>\n",
       "      <td>-24</td>\n",
       "    </tr>\n",
       "    <tr>\n",
       "      <th>1</th>\n",
       "      <td>Jefferson</td>\n",
       "      <td>25</td>\n",
       "      <td>20200322</td>\n",
       "      <td>33</td>\n",
       "      <td>20200322</td>\n",
       "      <td>8</td>\n",
       "    </tr>\n",
       "    <tr>\n",
       "      <th>2</th>\n",
       "      <td>Fayette</td>\n",
       "      <td>10</td>\n",
       "      <td>20200322</td>\n",
       "      <td>15</td>\n",
       "      <td>20200322</td>\n",
       "      <td>5</td>\n",
       "    </tr>\n",
       "    <tr>\n",
       "      <th>3</th>\n",
       "      <td>Harrison</td>\n",
       "      <td>7</td>\n",
       "      <td>20200322</td>\n",
       "      <td>8</td>\n",
       "      <td>20200322</td>\n",
       "      <td>1</td>\n",
       "    </tr>\n",
       "    <tr>\n",
       "      <th>4</th>\n",
       "      <td>Montgomery</td>\n",
       "      <td>2</td>\n",
       "      <td>20200322</td>\n",
       "      <td>2</td>\n",
       "      <td>20200322</td>\n",
       "      <td>0</td>\n",
       "    </tr>\n",
       "    <tr>\n",
       "      <th>5</th>\n",
       "      <td>Clark</td>\n",
       "      <td>2</td>\n",
       "      <td>20200322</td>\n",
       "      <td>2</td>\n",
       "      <td>20200322</td>\n",
       "      <td>0</td>\n",
       "    </tr>\n",
       "    <tr>\n",
       "      <th>6</th>\n",
       "      <td>Bourbon</td>\n",
       "      <td>2</td>\n",
       "      <td>20200322</td>\n",
       "      <td>2</td>\n",
       "      <td>20200322</td>\n",
       "      <td>0</td>\n",
       "    </tr>\n",
       "    <tr>\n",
       "      <th>7</th>\n",
       "      <td>Henderson</td>\n",
       "      <td>2</td>\n",
       "      <td>20200322</td>\n",
       "      <td>2</td>\n",
       "      <td>20200322</td>\n",
       "      <td>0</td>\n",
       "    </tr>\n",
       "    <tr>\n",
       "      <th>8</th>\n",
       "      <td>Warren</td>\n",
       "      <td>2</td>\n",
       "      <td>20200322</td>\n",
       "      <td>4</td>\n",
       "      <td>20200322</td>\n",
       "      <td>2</td>\n",
       "    </tr>\n",
       "    <tr>\n",
       "      <th>9</th>\n",
       "      <td>Pulaski</td>\n",
       "      <td>2</td>\n",
       "      <td>20200322</td>\n",
       "      <td>3</td>\n",
       "      <td>20200322</td>\n",
       "      <td>1</td>\n",
       "    </tr>\n",
       "    <tr>\n",
       "      <th>10</th>\n",
       "      <td>Nelson</td>\n",
       "      <td>1</td>\n",
       "      <td>20200322</td>\n",
       "      <td>1</td>\n",
       "      <td>20200322</td>\n",
       "      <td>0</td>\n",
       "    </tr>\n",
       "    <tr>\n",
       "      <th>11</th>\n",
       "      <td>Lyon</td>\n",
       "      <td>1</td>\n",
       "      <td>20200322</td>\n",
       "      <td>1</td>\n",
       "      <td>20200322</td>\n",
       "      <td>0</td>\n",
       "    </tr>\n",
       "    <tr>\n",
       "      <th>12</th>\n",
       "      <td>Kenton</td>\n",
       "      <td>1</td>\n",
       "      <td>20200322</td>\n",
       "      <td>5</td>\n",
       "      <td>20200322</td>\n",
       "      <td>4</td>\n",
       "    </tr>\n",
       "    <tr>\n",
       "      <th>13</th>\n",
       "      <td>Daviess</td>\n",
       "      <td>1</td>\n",
       "      <td>20200322</td>\n",
       "      <td>11</td>\n",
       "      <td>20200322</td>\n",
       "      <td>10</td>\n",
       "    </tr>\n",
       "    <tr>\n",
       "      <th>14</th>\n",
       "      <td>Anderson</td>\n",
       "      <td>1</td>\n",
       "      <td>20200322</td>\n",
       "      <td>2</td>\n",
       "      <td>20200322</td>\n",
       "      <td>1</td>\n",
       "    </tr>\n",
       "    <tr>\n",
       "      <th>15</th>\n",
       "      <td>Calloway</td>\n",
       "      <td>1</td>\n",
       "      <td>20200322</td>\n",
       "      <td>1</td>\n",
       "      <td>20200322</td>\n",
       "      <td>0</td>\n",
       "    </tr>\n",
       "    <tr>\n",
       "      <th>16</th>\n",
       "      <td>Christian</td>\n",
       "      <td>1</td>\n",
       "      <td>20200322</td>\n",
       "      <td>2</td>\n",
       "      <td>20200322</td>\n",
       "      <td>1</td>\n",
       "    </tr>\n",
       "    <tr>\n",
       "      <th>17</th>\n",
       "      <td>Franklin</td>\n",
       "      <td>1</td>\n",
       "      <td>20200322</td>\n",
       "      <td>2</td>\n",
       "      <td>20200322</td>\n",
       "      <td>1</td>\n",
       "    </tr>\n",
       "    <tr>\n",
       "      <th>18</th>\n",
       "      <td>Hardin</td>\n",
       "      <td>1</td>\n",
       "      <td>20200322</td>\n",
       "      <td>2</td>\n",
       "      <td>20200322</td>\n",
       "      <td>1</td>\n",
       "    </tr>\n",
       "    <tr>\n",
       "      <th>19</th>\n",
       "      <td>Oldham</td>\n",
       "      <td>1</td>\n",
       "      <td>20200322</td>\n",
       "      <td>1</td>\n",
       "      <td>20200322</td>\n",
       "      <td>0</td>\n",
       "    </tr>\n",
       "  </tbody>\n",
       "</table>\n",
       "</div>"
      ],
      "text/plain": [
       "        Admin2  Confirmed_x    date_x  Confirmed_y    date_y  diff\n",
       "0   Unassigned           39  20200322           15  20200322   -24\n",
       "1    Jefferson           25  20200322           33  20200322     8\n",
       "2      Fayette           10  20200322           15  20200322     5\n",
       "3     Harrison            7  20200322            8  20200322     1\n",
       "4   Montgomery            2  20200322            2  20200322     0\n",
       "5        Clark            2  20200322            2  20200322     0\n",
       "6      Bourbon            2  20200322            2  20200322     0\n",
       "7    Henderson            2  20200322            2  20200322     0\n",
       "8       Warren            2  20200322            4  20200322     2\n",
       "9      Pulaski            2  20200322            3  20200322     1\n",
       "10      Nelson            1  20200322            1  20200322     0\n",
       "11        Lyon            1  20200322            1  20200322     0\n",
       "12      Kenton            1  20200322            5  20200322     4\n",
       "13     Daviess            1  20200322           11  20200322    10\n",
       "14    Anderson            1  20200322            2  20200322     1\n",
       "15    Calloway            1  20200322            1  20200322     0\n",
       "16   Christian            1  20200322            2  20200322     1\n",
       "17    Franklin            1  20200322            2  20200322     1\n",
       "18      Hardin            1  20200322            2  20200322     1\n",
       "19      Oldham            1  20200322            1  20200322     0"
      ]
     },
     "execution_count": 56,
     "metadata": {},
     "output_type": "execute_result"
    }
   ],
   "source": [
    "dfx=pd.merge(df1_list, df2_list, on=['Admin2'], how='left')\n",
    "\n",
    "dfx['diff']=dfx.Confirmed_y-dfx.Confirmed_x\n",
    "dfx"
   ]
  },
  {
   "cell_type": "code",
   "execution_count": null,
   "metadata": {},
   "outputs": [],
   "source": []
  }
 ],
 "metadata": {
  "kernelspec": {
   "display_name": "Python 3",
   "language": "python",
   "name": "python3"
  },
  "language_info": {
   "codemirror_mode": {
    "name": "ipython",
    "version": 3
   },
   "file_extension": ".py",
   "mimetype": "text/x-python",
   "name": "python",
   "nbconvert_exporter": "python",
   "pygments_lexer": "ipython3",
   "version": "3.7.1"
  }
 },
 "nbformat": 4,
 "nbformat_minor": 4
}
