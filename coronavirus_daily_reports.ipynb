{
 "cells": [
  {
   "cell_type": "markdown",
   "metadata": {},
   "source": [
    "## JHU COVID-19 Daily Reports Data  "
   ]
  },
  {
   "cell_type": "markdown",
   "metadata": {},
   "source": [
    "The purpose of the notebook is to evaluate the coronavirus (COVID-19) data provided by the Center for Systems Science and Engineering (CSSE) at Johns Hopkins University (JHU). \n",
    "\n",
    "__Data Source:__  [CSSE-JHU COVID-19 data repository](https://github.com/CSSEGISandData/COVID-19)"
   ]
  },
  {
   "cell_type": "markdown",
   "metadata": {},
   "source": [
    "#### Python Libraries"
   ]
  },
  {
   "cell_type": "code",
   "execution_count": 1,
   "metadata": {},
   "outputs": [],
   "source": [
    "import pandas as pd\n",
    "from pathlib import Path"
   ]
  },
  {
   "cell_type": "markdown",
   "metadata": {},
   "source": [
    "#### Load csv data into dataframes"
   ]
  },
  {
   "cell_type": "code",
   "execution_count": 2,
   "metadata": {},
   "outputs": [],
   "source": [
    "start_date = 20200326  #date of first KY confirmed case\n",
    "end_date = 20200326  # last date of old file format\n",
    "filePath = Path(\"data\")   # the file path for data\n",
    "flag=0"
   ]
  },
  {
   "cell_type": "markdown",
   "metadata": {},
   "source": [
    "#### Load csv data into dataframes"
   ]
  },
  {
   "cell_type": "code",
   "execution_count": 3,
   "metadata": {},
   "outputs": [
    {
     "name": "stdout",
     "output_type": "stream",
     "text": [
      "Rows in daily: 115\n"
     ]
    }
   ],
   "source": [
    "daily_rpts_url = 'https://github.com/CSSEGISandData/COVID-19/raw/master/csse_covid_19_data/csse_covid_19_daily_reports/03-24-2020.csv'\n",
    "\n",
    "daily_df = pd.read_csv(daily_rpts_url, dtype={'FIPS': str})\n",
    "print ('Rows in daily:',len(daily_rpts_url))"
   ]
  },
  {
   "cell_type": "code",
   "execution_count": 4,
   "metadata": {},
   "outputs": [
    {
     "name": "stdout",
     "output_type": "stream",
     "text": [
      "<class 'pandas.core.frame.DataFrame'>\n",
      "RangeIndex: 3417 entries, 0 to 3416\n",
      "Data columns (total 12 columns):\n",
      " #   Column          Non-Null Count  Dtype  \n",
      "---  ------          --------------  -----  \n",
      " 0   FIPS            3150 non-null   object \n",
      " 1   Admin2          3170 non-null   object \n",
      " 2   Province_State  3252 non-null   object \n",
      " 3   Country_Region  3417 non-null   object \n",
      " 4   Last_Update     3417 non-null   object \n",
      " 5   Lat             3417 non-null   float64\n",
      " 6   Long_           3417 non-null   float64\n",
      " 7   Confirmed       3417 non-null   int64  \n",
      " 8   Deaths          3417 non-null   int64  \n",
      " 9   Recovered       3417 non-null   int64  \n",
      " 10  Active          3417 non-null   int64  \n",
      " 11  Combined_Key    3417 non-null   object \n",
      "dtypes: float64(2), int64(4), object(6)\n",
      "memory usage: 320.5+ KB\n"
     ]
    }
   ],
   "source": [
    "daily_df.info()"
   ]
  },
  {
   "cell_type": "code",
   "execution_count": 5,
   "metadata": {},
   "outputs": [
    {
     "name": "stdout",
     "output_type": "stream",
     "text": [
      "Length of dataframe: 121\n"
     ]
    },
    {
     "data": {
      "text/plain": [
       "Confirmed    162\n",
       "Deaths         4\n",
       "dtype: int64"
      ]
     },
     "execution_count": 5,
     "metadata": {},
     "output_type": "execute_result"
    }
   ],
   "source": [
    "#ky_daily_df = daily_df[(daily_df.Province_State=='Kentucky') & (daily_df.Confirmed>0)].copy()\n",
    "ky_daily_df = daily_df[(daily_df.Province_State=='Kentucky')].copy()\n",
    "print('Length of dataframe:', len(ky_daily_df))\n",
    "ky_daily_df[['Confirmed','Deaths']].sum(axis = 0, skipna = True) "
   ]
  },
  {
   "cell_type": "code",
   "execution_count": 6,
   "metadata": {},
   "outputs": [
    {
     "data": {
      "text/html": [
       "<div>\n",
       "<style scoped>\n",
       "    .dataframe tbody tr th:only-of-type {\n",
       "        vertical-align: middle;\n",
       "    }\n",
       "\n",
       "    .dataframe tbody tr th {\n",
       "        vertical-align: top;\n",
       "    }\n",
       "\n",
       "    .dataframe thead th {\n",
       "        text-align: right;\n",
       "    }\n",
       "</style>\n",
       "<table border=\"1\" class=\"dataframe\">\n",
       "  <thead>\n",
       "    <tr style=\"text-align: right;\">\n",
       "      <th></th>\n",
       "      <th>FIPS</th>\n",
       "      <th>Admin2</th>\n",
       "      <th>Province_State</th>\n",
       "      <th>Country_Region</th>\n",
       "      <th>Last_Update</th>\n",
       "      <th>Lat</th>\n",
       "      <th>Long_</th>\n",
       "      <th>Confirmed</th>\n",
       "      <th>Deaths</th>\n",
       "      <th>Recovered</th>\n",
       "      <th>Active</th>\n",
       "      <th>Combined_Key</th>\n",
       "    </tr>\n",
       "  </thead>\n",
       "  <tbody>\n",
       "    <tr>\n",
       "      <th>919</th>\n",
       "      <td>21067</td>\n",
       "      <td>Fayette</td>\n",
       "      <td>Kentucky</td>\n",
       "      <td>US</td>\n",
       "      <td>2020-03-24 23:37:31</td>\n",
       "      <td>38.036822</td>\n",
       "      <td>-84.455769</td>\n",
       "      <td>15</td>\n",
       "      <td>1</td>\n",
       "      <td>0</td>\n",
       "      <td>0</td>\n",
       "      <td>Fayette, Kentucky, US</td>\n",
       "    </tr>\n",
       "  </tbody>\n",
       "</table>\n",
       "</div>"
      ],
      "text/plain": [
       "      FIPS   Admin2 Province_State Country_Region          Last_Update  \\\n",
       "919  21067  Fayette       Kentucky             US  2020-03-24 23:37:31   \n",
       "\n",
       "           Lat      Long_  Confirmed  Deaths  Recovered  Active  \\\n",
       "919  38.036822 -84.455769         15       1          0       0   \n",
       "\n",
       "              Combined_Key  \n",
       "919  Fayette, Kentucky, US  "
      ]
     },
     "execution_count": 6,
     "metadata": {},
     "output_type": "execute_result"
    }
   ],
   "source": [
    "ky_daily_df[ky_daily_df.Admin2=='Fayette']"
   ]
  },
  {
   "cell_type": "code",
   "execution_count": 7,
   "metadata": {},
   "outputs": [
    {
     "data": {
      "text/html": [
       "<div>\n",
       "<style scoped>\n",
       "    .dataframe tbody tr th:only-of-type {\n",
       "        vertical-align: middle;\n",
       "    }\n",
       "\n",
       "    .dataframe tbody tr th {\n",
       "        vertical-align: top;\n",
       "    }\n",
       "\n",
       "    .dataframe thead th {\n",
       "        text-align: right;\n",
       "    }\n",
       "</style>\n",
       "<table border=\"1\" class=\"dataframe\">\n",
       "  <thead>\n",
       "    <tr style=\"text-align: right;\">\n",
       "      <th></th>\n",
       "      <th>FIPS</th>\n",
       "      <th>Admin2</th>\n",
       "      <th>Province_State</th>\n",
       "      <th>Country_Region</th>\n",
       "      <th>Last_Update</th>\n",
       "      <th>Lat</th>\n",
       "      <th>Long_</th>\n",
       "      <th>Confirmed</th>\n",
       "      <th>Deaths</th>\n",
       "      <th>Recovered</th>\n",
       "      <th>Active</th>\n",
       "      <th>Combined_Key</th>\n",
       "    </tr>\n",
       "  </thead>\n",
       "  <tbody>\n",
       "    <tr>\n",
       "      <th>1410</th>\n",
       "      <td>21111</td>\n",
       "      <td>Jefferson</td>\n",
       "      <td>Kentucky</td>\n",
       "      <td>US</td>\n",
       "      <td>2020-03-24 23:37:31</td>\n",
       "      <td>38.186647</td>\n",
       "      <td>-85.65931</td>\n",
       "      <td>33</td>\n",
       "      <td>1</td>\n",
       "      <td>0</td>\n",
       "      <td>0</td>\n",
       "      <td>Jefferson, Kentucky, US</td>\n",
       "    </tr>\n",
       "  </tbody>\n",
       "</table>\n",
       "</div>"
      ],
      "text/plain": [
       "       FIPS     Admin2 Province_State Country_Region          Last_Update  \\\n",
       "1410  21111  Jefferson       Kentucky             US  2020-03-24 23:37:31   \n",
       "\n",
       "            Lat     Long_  Confirmed  Deaths  Recovered  Active  \\\n",
       "1410  38.186647 -85.65931         33       1          0       0   \n",
       "\n",
       "                 Combined_Key  \n",
       "1410  Jefferson, Kentucky, US  "
      ]
     },
     "execution_count": 7,
     "metadata": {},
     "output_type": "execute_result"
    }
   ],
   "source": [
    "ky_daily_df[ky_daily_df.Admin2=='Jefferson']"
   ]
  },
  {
   "cell_type": "markdown",
   "metadata": {},
   "source": [
    "#### Write data to file"
   ]
  },
  {
   "cell_type": "raw",
   "metadata": {},
   "source": [
    "file_name = 'ky_new_format.csv'\n",
    "file_out = filePath.joinpath(file_name)  # path and filename\n",
    "\n",
    "ky_daily_df.to_csv(file_out)  # output to csv"
   ]
  },
  {
   "cell_type": "markdown",
   "metadata": {},
   "source": [
    "#### Write the FIPS, latitude, and longitude data to file"
   ]
  },
  {
   "cell_type": "raw",
   "metadata": {},
   "source": [
    "ky_daily_df['county']=ky_daily_df.Admin2+' County'\n",
    "ky_daily_df=ky_daily_df.rename(columns={'Admin2': 'county_short', 'Lat': 'lat', 'Long_': 'lon', 'Province_State': 'state'})\n",
    "ky_daily_df=ky_daily_df.round(4)\n",
    "\n",
    "file_name = 'ky_fips.csv'\n",
    "file_out = filePath.joinpath(file_name)  # path and filename\n",
    "\n",
    "ky_daily_df[['FIPS','county','county_short','lat','lon']].to_csv(file_out,index=False)"
   ]
  },
  {
   "cell_type": "code",
   "execution_count": 10,
   "metadata": {},
   "outputs": [
    {
     "data": {
      "text/html": [
       "<div>\n",
       "<style scoped>\n",
       "    .dataframe tbody tr th:only-of-type {\n",
       "        vertical-align: middle;\n",
       "    }\n",
       "\n",
       "    .dataframe tbody tr th {\n",
       "        vertical-align: top;\n",
       "    }\n",
       "\n",
       "    .dataframe thead th {\n",
       "        text-align: right;\n",
       "    }\n",
       "</style>\n",
       "<table border=\"1\" class=\"dataframe\">\n",
       "  <thead>\n",
       "    <tr style=\"text-align: right;\">\n",
       "      <th></th>\n",
       "      <th>FIPS</th>\n",
       "      <th>county_short</th>\n",
       "      <th>state</th>\n",
       "      <th>Country_Region</th>\n",
       "      <th>Last_Update</th>\n",
       "      <th>lat</th>\n",
       "      <th>lon</th>\n",
       "      <th>Confirmed</th>\n",
       "      <th>Deaths</th>\n",
       "      <th>Recovered</th>\n",
       "      <th>Active</th>\n",
       "      <th>Combined_Key</th>\n",
       "      <th>county</th>\n",
       "    </tr>\n",
       "  </thead>\n",
       "  <tbody>\n",
       "    <tr>\n",
       "      <th>5</th>\n",
       "      <td>21001</td>\n",
       "      <td>Adair</td>\n",
       "      <td>Kentucky</td>\n",
       "      <td>US</td>\n",
       "      <td>2020-03-24 23:37:31</td>\n",
       "      <td>37.1046</td>\n",
       "      <td>-85.2813</td>\n",
       "      <td>0</td>\n",
       "      <td>0</td>\n",
       "      <td>0</td>\n",
       "      <td>0</td>\n",
       "      <td>Adair, Kentucky, US</td>\n",
       "      <td>Adair County</td>\n",
       "    </tr>\n",
       "    <tr>\n",
       "      <th>48</th>\n",
       "      <td>21003</td>\n",
       "      <td>Allen</td>\n",
       "      <td>Kentucky</td>\n",
       "      <td>US</td>\n",
       "      <td>2020-03-24 23:37:31</td>\n",
       "      <td>36.7520</td>\n",
       "      <td>-86.1946</td>\n",
       "      <td>0</td>\n",
       "      <td>0</td>\n",
       "      <td>0</td>\n",
       "      <td>0</td>\n",
       "      <td>Allen, Kentucky, US</td>\n",
       "      <td>Allen County</td>\n",
       "    </tr>\n",
       "    <tr>\n",
       "      <th>60</th>\n",
       "      <td>21005</td>\n",
       "      <td>Anderson</td>\n",
       "      <td>Kentucky</td>\n",
       "      <td>US</td>\n",
       "      <td>2020-03-24 23:37:31</td>\n",
       "      <td>38.0067</td>\n",
       "      <td>-84.9917</td>\n",
       "      <td>2</td>\n",
       "      <td>1</td>\n",
       "      <td>0</td>\n",
       "      <td>0</td>\n",
       "      <td>Anderson, Kentucky, US</td>\n",
       "      <td>Anderson County</td>\n",
       "    </tr>\n",
       "    <tr>\n",
       "      <th>121</th>\n",
       "      <td>21007</td>\n",
       "      <td>Ballard</td>\n",
       "      <td>Kentucky</td>\n",
       "      <td>US</td>\n",
       "      <td>2020-03-24 23:37:31</td>\n",
       "      <td>37.0584</td>\n",
       "      <td>-88.9943</td>\n",
       "      <td>0</td>\n",
       "      <td>0</td>\n",
       "      <td>0</td>\n",
       "      <td>0</td>\n",
       "      <td>Ballard, Kentucky, US</td>\n",
       "      <td>Ballard County</td>\n",
       "    </tr>\n",
       "    <tr>\n",
       "      <th>136</th>\n",
       "      <td>21009</td>\n",
       "      <td>Barren</td>\n",
       "      <td>Kentucky</td>\n",
       "      <td>US</td>\n",
       "      <td>2020-03-24 23:37:31</td>\n",
       "      <td>36.9647</td>\n",
       "      <td>-85.9334</td>\n",
       "      <td>0</td>\n",
       "      <td>0</td>\n",
       "      <td>0</td>\n",
       "      <td>0</td>\n",
       "      <td>Barren, Kentucky, US</td>\n",
       "      <td>Barren County</td>\n",
       "    </tr>\n",
       "    <tr>\n",
       "      <th>...</th>\n",
       "      <td>...</td>\n",
       "      <td>...</td>\n",
       "      <td>...</td>\n",
       "      <td>...</td>\n",
       "      <td>...</td>\n",
       "      <td>...</td>\n",
       "      <td>...</td>\n",
       "      <td>...</td>\n",
       "      <td>...</td>\n",
       "      <td>...</td>\n",
       "      <td>...</td>\n",
       "      <td>...</td>\n",
       "      <td>...</td>\n",
       "    </tr>\n",
       "    <tr>\n",
       "      <th>3020</th>\n",
       "      <td>21231</td>\n",
       "      <td>Wayne</td>\n",
       "      <td>Kentucky</td>\n",
       "      <td>US</td>\n",
       "      <td>2020-03-24 23:37:31</td>\n",
       "      <td>36.8031</td>\n",
       "      <td>-84.8252</td>\n",
       "      <td>0</td>\n",
       "      <td>0</td>\n",
       "      <td>0</td>\n",
       "      <td>0</td>\n",
       "      <td>Wayne, Kentucky, US</td>\n",
       "      <td>Wayne County</td>\n",
       "    </tr>\n",
       "    <tr>\n",
       "      <th>3038</th>\n",
       "      <td>21233</td>\n",
       "      <td>Webster</td>\n",
       "      <td>Kentucky</td>\n",
       "      <td>US</td>\n",
       "      <td>2020-03-24 23:37:31</td>\n",
       "      <td>37.5217</td>\n",
       "      <td>-87.6799</td>\n",
       "      <td>1</td>\n",
       "      <td>0</td>\n",
       "      <td>0</td>\n",
       "      <td>0</td>\n",
       "      <td>Webster, Kentucky, US</td>\n",
       "      <td>Webster County</td>\n",
       "    </tr>\n",
       "    <tr>\n",
       "      <th>3072</th>\n",
       "      <td>21235</td>\n",
       "      <td>Whitley</td>\n",
       "      <td>Kentucky</td>\n",
       "      <td>US</td>\n",
       "      <td>2020-03-24 23:37:31</td>\n",
       "      <td>36.7570</td>\n",
       "      <td>-84.1454</td>\n",
       "      <td>0</td>\n",
       "      <td>0</td>\n",
       "      <td>0</td>\n",
       "      <td>0</td>\n",
       "      <td>Whitley, Kentucky, US</td>\n",
       "      <td>Whitley County</td>\n",
       "    </tr>\n",
       "    <tr>\n",
       "      <th>3115</th>\n",
       "      <td>21237</td>\n",
       "      <td>Wolfe</td>\n",
       "      <td>Kentucky</td>\n",
       "      <td>US</td>\n",
       "      <td>2020-03-24 23:37:31</td>\n",
       "      <td>37.7394</td>\n",
       "      <td>-83.4930</td>\n",
       "      <td>0</td>\n",
       "      <td>0</td>\n",
       "      <td>0</td>\n",
       "      <td>0</td>\n",
       "      <td>Wolfe, Kentucky, US</td>\n",
       "      <td>Wolfe County</td>\n",
       "    </tr>\n",
       "    <tr>\n",
       "      <th>3122</th>\n",
       "      <td>21239</td>\n",
       "      <td>Woodford</td>\n",
       "      <td>Kentucky</td>\n",
       "      <td>US</td>\n",
       "      <td>2020-03-24 23:37:31</td>\n",
       "      <td>38.0418</td>\n",
       "      <td>-84.7418</td>\n",
       "      <td>0</td>\n",
       "      <td>0</td>\n",
       "      <td>0</td>\n",
       "      <td>0</td>\n",
       "      <td>Woodford, Kentucky, US</td>\n",
       "      <td>Woodford County</td>\n",
       "    </tr>\n",
       "  </tbody>\n",
       "</table>\n",
       "<p>121 rows × 13 columns</p>\n",
       "</div>"
      ],
      "text/plain": [
       "       FIPS county_short     state Country_Region          Last_Update  \\\n",
       "5     21001        Adair  Kentucky             US  2020-03-24 23:37:31   \n",
       "48    21003        Allen  Kentucky             US  2020-03-24 23:37:31   \n",
       "60    21005     Anderson  Kentucky             US  2020-03-24 23:37:31   \n",
       "121   21007      Ballard  Kentucky             US  2020-03-24 23:37:31   \n",
       "136   21009       Barren  Kentucky             US  2020-03-24 23:37:31   \n",
       "...     ...          ...       ...            ...                  ...   \n",
       "3020  21231        Wayne  Kentucky             US  2020-03-24 23:37:31   \n",
       "3038  21233      Webster  Kentucky             US  2020-03-24 23:37:31   \n",
       "3072  21235      Whitley  Kentucky             US  2020-03-24 23:37:31   \n",
       "3115  21237        Wolfe  Kentucky             US  2020-03-24 23:37:31   \n",
       "3122  21239     Woodford  Kentucky             US  2020-03-24 23:37:31   \n",
       "\n",
       "          lat      lon  Confirmed  Deaths  Recovered  Active  \\\n",
       "5     37.1046 -85.2813          0       0          0       0   \n",
       "48    36.7520 -86.1946          0       0          0       0   \n",
       "60    38.0067 -84.9917          2       1          0       0   \n",
       "121   37.0584 -88.9943          0       0          0       0   \n",
       "136   36.9647 -85.9334          0       0          0       0   \n",
       "...       ...      ...        ...     ...        ...     ...   \n",
       "3020  36.8031 -84.8252          0       0          0       0   \n",
       "3038  37.5217 -87.6799          1       0          0       0   \n",
       "3072  36.7570 -84.1454          0       0          0       0   \n",
       "3115  37.7394 -83.4930          0       0          0       0   \n",
       "3122  38.0418 -84.7418          0       0          0       0   \n",
       "\n",
       "                Combined_Key           county  \n",
       "5        Adair, Kentucky, US     Adair County  \n",
       "48       Allen, Kentucky, US     Allen County  \n",
       "60    Anderson, Kentucky, US  Anderson County  \n",
       "121    Ballard, Kentucky, US   Ballard County  \n",
       "136     Barren, Kentucky, US    Barren County  \n",
       "...                      ...              ...  \n",
       "3020     Wayne, Kentucky, US     Wayne County  \n",
       "3038   Webster, Kentucky, US   Webster County  \n",
       "3072   Whitley, Kentucky, US   Whitley County  \n",
       "3115     Wolfe, Kentucky, US     Wolfe County  \n",
       "3122  Woodford, Kentucky, US  Woodford County  \n",
       "\n",
       "[121 rows x 13 columns]"
      ]
     },
     "execution_count": 10,
     "metadata": {},
     "output_type": "execute_result"
    }
   ],
   "source": [
    "ky_daily_df"
   ]
  },
  {
   "cell_type": "code",
   "execution_count": null,
   "metadata": {},
   "outputs": [],
   "source": []
  }
 ],
 "metadata": {
  "kernelspec": {
   "display_name": "Python 3",
   "language": "python",
   "name": "python3"
  },
  "language_info": {
   "codemirror_mode": {
    "name": "ipython",
    "version": 3
   },
   "file_extension": ".py",
   "mimetype": "text/x-python",
   "name": "python",
   "nbconvert_exporter": "python",
   "pygments_lexer": "ipython3",
   "version": "3.7.1"
  }
 },
 "nbformat": 4,
 "nbformat_minor": 4
}
