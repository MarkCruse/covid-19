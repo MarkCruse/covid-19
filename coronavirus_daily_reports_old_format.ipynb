{
 "cells": [
  {
   "cell_type": "markdown",
   "metadata": {},
   "source": [
    "## JHU COVID-19 Daily Reports Data  "
   ]
  },
  {
   "cell_type": "markdown",
   "metadata": {},
   "source": [
    "The purpose of the notebook is to evaluate the coronavirus (COVID-19) data provided by the Center for Systems Science and Engineering (CSSE) at Johns Hopkins University (JHU).  This workbook only evaluates the time series dataset provided by JHU-CSSE.  \n",
    "\n",
    "__Data Source:__  [CSSE-JHU COVID-19 data repository](https://github.com/CSSEGISandData/COVID-19)"
   ]
  },
  {
   "cell_type": "markdown",
   "metadata": {},
   "source": [
    "#### Python Libraries"
   ]
  },
  {
   "cell_type": "code",
   "execution_count": 1,
   "metadata": {},
   "outputs": [],
   "source": [
    "import pandas as pd\n",
    "from pathlib import Path"
   ]
  },
  {
   "cell_type": "markdown",
   "metadata": {},
   "source": [
    "#### Load csv data into dataframes"
   ]
  },
  {
   "cell_type": "code",
   "execution_count": 8,
   "metadata": {},
   "outputs": [],
   "source": [
    "start_date = 20200306  #date of first KY confirmed case\n",
    "end_date = 20200310  # last date of old file format\n",
    "filePath = Path(\"data\")   # the file path for data\n",
    "flag=0"
   ]
  },
  {
   "cell_type": "code",
   "execution_count": 20,
   "metadata": {},
   "outputs": [],
   "source": [
    "def retrieve_daily_data(file_string):\n",
    "\n",
    "    daily_rpts_url = 'https://github.com/CSSEGISandData/COVID-19/raw/master/csse_covid_19_data/csse_covid_19_daily_reports/'+file_string\n",
    "    daily_df = pd.read_csv(daily_rpts_url)\n",
    "\n",
    "    df = daily_df[daily_df['Province/State'].notnull()].copy()\n",
    "    df = df[df['Province/State'].str.contains(',') & (df['Country/Region']=='US')].sort_values('Province/State').copy()\n",
    "    df = df.rename(columns={'Province/State': 'county_state'})\n",
    "\n",
    "    split_county_state=df.county_state.str.split(\", \",expand=True)\n",
    "    df['county']=split_county_state[0]\n",
    "    df['state']=split_county_state[1]\n",
    "    df = df[df.state=='KY'].copy()\n",
    "    df_list = df.values.tolist()\n",
    "    return df_list"
   ]
  },
  {
   "cell_type": "markdown",
   "metadata": {},
   "source": [
    "#### Main processing loop"
   ]
  },
  {
   "cell_type": "code",
   "execution_count": 31,
   "metadata": {},
   "outputs": [
    {
     "name": "stdout",
     "output_type": "stream",
     "text": [
      "03-06-2020.csv\n",
      "03-07-2020.csv\n",
      "03-08-2020.csv\n",
      "03-09-2020.csv\n"
     ]
    }
   ],
   "source": [
    "df_list=[]\n",
    "for increment in range(start_date, end_date):\n",
    "    file_string = str(increment)+'_ky_covid19_case_information.pdf'\n",
    "    file_string = str(increment)[4:6]+'-'+str(increment)[6:8]+'-'+str(increment)[:4]+'.csv'\n",
    "    print (file_string)\n",
    "    df_list=retrieve_daily_data(file_string)\n",
    "    "
   ]
  },
  {
   "cell_type": "code",
   "execution_count": 32,
   "metadata": {},
   "outputs": [
    {
     "name": "stdout",
     "output_type": "stream",
     "text": [
      "[['Fayette County, KY', 'US', '2020-03-06T23:23:03', 1, 0, 0, 38.0606, -84.4803, 'Fayette County', 'KY'], ['Harrison County, KY', 'US', '2020-03-09T08:43:03', 2, 0, 0, 38.4333, -84.3542, 'Harrison County', 'KY'], ['Jefferson County, KY', 'US', '2020-03-09T00:23:10', 1, 0, 0, 38.1938, -85.6435, 'Jefferson County', 'KY']]\n"
     ]
    }
   ],
   "source": [
    "print(df_list)"
   ]
  },
  {
   "cell_type": "code",
   "execution_count": 34,
   "metadata": {},
   "outputs": [
    {
     "data": {
      "text/html": [
       "<div>\n",
       "<style scoped>\n",
       "    .dataframe tbody tr th:only-of-type {\n",
       "        vertical-align: middle;\n",
       "    }\n",
       "\n",
       "    .dataframe tbody tr th {\n",
       "        vertical-align: top;\n",
       "    }\n",
       "\n",
       "    .dataframe thead th {\n",
       "        text-align: right;\n",
       "    }\n",
       "</style>\n",
       "<table border=\"1\" class=\"dataframe\">\n",
       "  <thead>\n",
       "    <tr style=\"text-align: right;\">\n",
       "      <th></th>\n",
       "      <th>county_state</th>\n",
       "      <th>country_region</th>\n",
       "      <th>last_udate</th>\n",
       "      <th>confirmed</th>\n",
       "      <th>deaths</th>\n",
       "      <th>recovered</th>\n",
       "      <th>latitude</th>\n",
       "      <th>longitude</th>\n",
       "      <th>county</th>\n",
       "      <th>state</th>\n",
       "    </tr>\n",
       "  </thead>\n",
       "  <tbody>\n",
       "    <tr>\n",
       "      <th>0</th>\n",
       "      <td>Fayette County, KY</td>\n",
       "      <td>US</td>\n",
       "      <td>2020-03-06T23:23:03</td>\n",
       "      <td>1</td>\n",
       "      <td>0</td>\n",
       "      <td>0</td>\n",
       "      <td>38.0606</td>\n",
       "      <td>-84.4803</td>\n",
       "      <td>Fayette County</td>\n",
       "      <td>KY</td>\n",
       "    </tr>\n",
       "    <tr>\n",
       "      <th>1</th>\n",
       "      <td>Harrison County, KY</td>\n",
       "      <td>US</td>\n",
       "      <td>2020-03-09T08:43:03</td>\n",
       "      <td>2</td>\n",
       "      <td>0</td>\n",
       "      <td>0</td>\n",
       "      <td>38.4333</td>\n",
       "      <td>-84.3542</td>\n",
       "      <td>Harrison County</td>\n",
       "      <td>KY</td>\n",
       "    </tr>\n",
       "    <tr>\n",
       "      <th>2</th>\n",
       "      <td>Jefferson County, KY</td>\n",
       "      <td>US</td>\n",
       "      <td>2020-03-09T00:23:10</td>\n",
       "      <td>1</td>\n",
       "      <td>0</td>\n",
       "      <td>0</td>\n",
       "      <td>38.1938</td>\n",
       "      <td>-85.6435</td>\n",
       "      <td>Jefferson County</td>\n",
       "      <td>KY</td>\n",
       "    </tr>\n",
       "  </tbody>\n",
       "</table>\n",
       "</div>"
      ],
      "text/plain": [
       "           county_state country_region           last_udate  confirmed  \\\n",
       "0    Fayette County, KY             US  2020-03-06T23:23:03          1   \n",
       "1   Harrison County, KY             US  2020-03-09T08:43:03          2   \n",
       "2  Jefferson County, KY             US  2020-03-09T00:23:10          1   \n",
       "\n",
       "   deaths  recovered  latitude  longitude            county state  \n",
       "0       0          0   38.0606   -84.4803    Fayette County    KY  \n",
       "1       0          0   38.4333   -84.3542   Harrison County    KY  \n",
       "2       0          0   38.1938   -85.6435  Jefferson County    KY  "
      ]
     },
     "execution_count": 34,
     "metadata": {},
     "output_type": "execute_result"
    }
   ],
   "source": [
    "df = pd.DataFrame(df_list, columns =['county_state','country_region','last_udate','confirmed','deaths','recovered','latitude','longitude','county','state'])\n",
    "df"
   ]
  },
  {
   "cell_type": "code",
   "execution_count": 35,
   "metadata": {},
   "outputs": [],
   "source": [
    "file_name = 'ky_base.csv'\n",
    "file_out = filePath.joinpath(file_name)  # path and filename\n",
    "\n",
    "df.to_csv(file_out)  # output to csv"
   ]
  },
  {
   "cell_type": "code",
   "execution_count": null,
   "metadata": {},
   "outputs": [],
   "source": []
  }
 ],
 "metadata": {
  "kernelspec": {
   "display_name": "Python 3",
   "language": "python",
   "name": "python3"
  },
  "language_info": {
   "codemirror_mode": {
    "name": "ipython",
    "version": 3
   },
   "file_extension": ".py",
   "mimetype": "text/x-python",
   "name": "python",
   "nbconvert_exporter": "python",
   "pygments_lexer": "ipython3",
   "version": "3.7.1"
  }
 },
 "nbformat": 4,
 "nbformat_minor": 4
}
