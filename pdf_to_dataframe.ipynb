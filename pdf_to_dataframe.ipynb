{
 "cells": [
  {
   "cell_type": "code",
   "execution_count": 1,
   "metadata": {},
   "outputs": [],
   "source": [
    "import tika\n",
    "from tika import parser\n",
    "import pandas as pd\n",
    "from pathlib import Path"
   ]
  },
  {
   "cell_type": "code",
   "execution_count": 2,
   "metadata": {},
   "outputs": [
    {
     "data": {
      "text/plain": [
       "'/Users/mark/Documents/github-public/covid-19/data/covid19_case_information_03_23_2020.pdf'"
      ]
     },
     "execution_count": 2,
     "metadata": {},
     "output_type": "execute_result"
    }
   ],
   "source": [
    "file_date = '03_24_2020'\n",
    "filePath = Path(\"data\")   # the file path for data\n",
    "full_path = '/Users/mark/Documents/github-public/covid-19/data/covid19_case_information_' + file_date + '.pdf'\n",
    "full_path"
   ]
  },
  {
   "cell_type": "markdown",
   "metadata": {},
   "source": [
    "#### Read the PDF file into the Tika parser"
   ]
  },
  {
   "cell_type": "code",
   "execution_count": 3,
   "metadata": {},
   "outputs": [
    {
     "data": {
      "text/plain": [
       "'COVID-19 case information for Kentucky \\nAs of 4 p.m. March 23, COVID-19 patient information includes 124 who have tested positive. \\n51 M Daviess \\n28 M Calloway \\n27 F Harrison \\n67 F Harrison \\n61 F Oldham \\n68 M Harrison \\n26 F Fayette \\n60 M Harrison \\n54 F Harrison \\n51 M Harrison \\n66 M Bourbon \\n47 M Fayette \\n76 F Madison \\n49 M Clark \\n51 M Montgomery \\n69 M Jefferson \\n69 M Lyon \\n88 F Bourbon \\n27 F Clark \\n61 F Franklin \\n50 M Harrison \\n73 M Warren \\n55 M Warren \\n73 M Warren \\n80 F Warren \\n F Jefferson \\n96 M Kenton \\n74 M Jefferson \\n54 M Jefferson \\n66 M Jefferson \\n66 F Kenton \\n59 F Pulaski \\n31 F Fayette \\n56 M Montgomery \\n40 F Fayette \\n63 F Henderson \\n23 F Breathitt \\n68 F Harrison \\n43 F Fayette \\n21 F Kenton \\n77 M Madison \\n79 F Jefferson \\n46 M Fayette \\n48 F Jefferson \\n34 F Jefferson \\n61 F Christian \\n45 F Jefferson \\n36 M Spencer \\n M Menifee \\n F GRDHD \\n64 F Jefferson \\n46 F Jefferson \\n17 F Jefferson \\n33 F Kenton \\n51 M Fayette \\n45 F Fayette \\n48 F Pulaski \\n31 M Fayette \\n59 M Daviess \\n48 F Daviess \\n23 F Daviess \\n48 M Daviess \\n61 M Henderson \\n58 F Unconfirmed \\n67 M Fayette \\n55 F Fayette \\n3 M Unconfirmed \\n25 U Jessamine \\n F Jefferson \\n F Jefferson \\n53 M Nelson \\n U Jefferson \\n73 F Jefferson \\n F Jefferson \\n M Jefferson \\n M Jefferson \\n80 F Jefferson \\n6 F Hardin \\n67 F Jefferson \\n F Jefferson \\n60 M Anderson \\n F Jefferson \\n M Jefferson \\n68 F Jefferson \\n F Jefferson \\n F Jefferson \\n M Unconfirmed \\n F Unconfirmed \\n F Unconfirmed \\n32 M Kenton \\n F Jefferson \\n M Jefferson \\n F Unconfirmed \\n M Unconfirmed \\n F Unconfirmed \\n M Unconfirmed \\n\\n M Unconfirmed \\n34 M Fayette \\n24 M Christian \\n30 F Kenton \\n21 F Hardin \\n54 M Daviess \\n82 F Fayette \\n63 F Jefferson \\n55 F Jefferson \\n70 M Harrison \\n50 F Unconfirmed \\n63 F Unconfirmed \\n38 M Unconfirmed \\n27 M Jefferson \\n64 F Jefferson \\n49 M Breathitt \\n25 M Daviess \\n20 F Daviess \\n26 F Warren \\n59 F Logan \\n24 F Allen \\n89 F Simpson \\n50 F Daviess \\n59 M Jefferson \\n24 M Jefferson \\n69 F Scott \\n73 M Harrison \\n75 F Fayette\\nAdditional cases and demographics of other cases mentioned were not known by 5 p.m. ET \\nSunday, so not all info is listed.  \\nGRDHD = Green River District Health Department. U = unknown at this time.'"
      ]
     },
     "execution_count": 3,
     "metadata": {},
     "output_type": "execute_result"
    }
   ],
   "source": [
    "raw = parser.from_file(full_path)\n",
    "raw = raw['content'].lstrip().rstrip() # Remove leading and trailing spaces\n",
    "raw=raw.replace('\\n\\n','\\n')  # replace all double newline characters with one\n",
    "raw"
   ]
  },
  {
   "cell_type": "markdown",
   "metadata": {},
   "source": [
    "#### Turn the string into a list, breaking on newline character"
   ]
  },
  {
   "cell_type": "code",
   "execution_count": 4,
   "metadata": {},
   "outputs": [
    {
     "data": {
      "text/plain": [
       "[['51 M Daviess'],\n",
       " ['28 M Calloway'],\n",
       " ['27 F Harrison'],\n",
       " ['67 F Harrison'],\n",
       " ['61 F Oldham'],\n",
       " ['68 M Harrison'],\n",
       " ['26 F Fayette'],\n",
       " ['60 M Harrison'],\n",
       " ['54 F Harrison'],\n",
       " ['51 M Harrison']]"
      ]
     },
     "execution_count": 4,
     "metadata": {},
     "output_type": "execute_result"
    }
   ],
   "source": [
    "string_list = [x.split(',') for x in raw.split(' \\n')]\n",
    "string_list = string_list[2:-2]\n",
    "string_list[:10]"
   ]
  },
  {
   "cell_type": "markdown",
   "metadata": {},
   "source": [
    "#### Convert the list of string lists into a list of lists"
   ]
  },
  {
   "cell_type": "code",
   "execution_count": 5,
   "metadata": {},
   "outputs": [
    {
     "data": {
      "text/plain": [
       "[['51', 'M', 'Daviess'],\n",
       " ['28', 'M', 'Calloway'],\n",
       " ['27', 'F', 'Harrison'],\n",
       " ['67', 'F', 'Harrison'],\n",
       " ['61', 'F', 'Oldham'],\n",
       " ['68', 'M', 'Harrison'],\n",
       " ['26', 'F', 'Fayette'],\n",
       " ['60', 'M', 'Harrison'],\n",
       " ['54', 'F', 'Harrison'],\n",
       " ['51', 'M', 'Harrison']]"
      ]
     },
     "execution_count": 5,
     "metadata": {},
     "output_type": "execute_result"
    }
   ],
   "source": [
    "new_list=[]\n",
    "new_string=''\n",
    "for indx, items in enumerate(string_list):\n",
    "    new_string=new_string + (str(items).replace(' ', ',', 2))\n",
    "new_string = new_string.replace(\"'\",\"\").replace('][','\\n').replace('[','')\n",
    "new_list = [x.split(',') for x in new_string.split('\\n')]\n",
    "new_list[:10]"
   ]
  },
  {
   "cell_type": "markdown",
   "metadata": {},
   "source": [
    "#### Create a dataframe from the list of lists"
   ]
  },
  {
   "cell_type": "code",
   "execution_count": 6,
   "metadata": {},
   "outputs": [
    {
     "data": {
      "text/html": [
       "<div>\n",
       "<style scoped>\n",
       "    .dataframe tbody tr th:only-of-type {\n",
       "        vertical-align: middle;\n",
       "    }\n",
       "\n",
       "    .dataframe tbody tr th {\n",
       "        vertical-align: top;\n",
       "    }\n",
       "\n",
       "    .dataframe thead th {\n",
       "        text-align: right;\n",
       "    }\n",
       "</style>\n",
       "<table border=\"1\" class=\"dataframe\">\n",
       "  <thead>\n",
       "    <tr style=\"text-align: right;\">\n",
       "      <th></th>\n",
       "      <th>Age</th>\n",
       "      <th>M/F</th>\n",
       "      <th>County</th>\n",
       "    </tr>\n",
       "  </thead>\n",
       "  <tbody>\n",
       "    <tr>\n",
       "      <th>0</th>\n",
       "      <td>51</td>\n",
       "      <td>M</td>\n",
       "      <td>Daviess</td>\n",
       "    </tr>\n",
       "    <tr>\n",
       "      <th>1</th>\n",
       "      <td>28</td>\n",
       "      <td>M</td>\n",
       "      <td>Calloway</td>\n",
       "    </tr>\n",
       "    <tr>\n",
       "      <th>2</th>\n",
       "      <td>27</td>\n",
       "      <td>F</td>\n",
       "      <td>Harrison</td>\n",
       "    </tr>\n",
       "    <tr>\n",
       "      <th>3</th>\n",
       "      <td>67</td>\n",
       "      <td>F</td>\n",
       "      <td>Harrison</td>\n",
       "    </tr>\n",
       "    <tr>\n",
       "      <th>4</th>\n",
       "      <td>61</td>\n",
       "      <td>F</td>\n",
       "      <td>Oldham</td>\n",
       "    </tr>\n",
       "  </tbody>\n",
       "</table>\n",
       "</div>"
      ],
      "text/plain": [
       "  Age M/F    County\n",
       "0  51   M   Daviess\n",
       "1  28   M  Calloway\n",
       "2  27   F  Harrison\n",
       "3  67   F  Harrison\n",
       "4  61   F    Oldham"
      ]
     },
     "execution_count": 6,
     "metadata": {},
     "output_type": "execute_result"
    }
   ],
   "source": [
    "df = pd.DataFrame(new_list,columns=['Age','M/F','County'])\n",
    "df.head()"
   ]
  },
  {
   "cell_type": "markdown",
   "metadata": {},
   "source": [
    "#### Write dataframe to CSV file"
   ]
  },
  {
   "cell_type": "code",
   "execution_count": 7,
   "metadata": {},
   "outputs": [],
   "source": [
    "file_name = 'ky_'+file_date+'.csv'\n",
    "file_out = filePath.joinpath(file_name)  # path and filename\n",
    "\n",
    "df.to_csv(file_out)  # output to csv"
   ]
  },
  {
   "cell_type": "code",
   "execution_count": 8,
   "metadata": {},
   "outputs": [
    {
     "data": {
      "text/plain": [
       "124"
      ]
     },
     "execution_count": 8,
     "metadata": {},
     "output_type": "execute_result"
    }
   ],
   "source": [
    "len(df)"
   ]
  },
  {
   "cell_type": "code",
   "execution_count": null,
   "metadata": {},
   "outputs": [],
   "source": []
  }
 ],
 "metadata": {
  "kernelspec": {
   "display_name": "Python 3",
   "language": "python",
   "name": "python3"
  },
  "language_info": {
   "codemirror_mode": {
    "name": "ipython",
    "version": 3
   },
   "file_extension": ".py",
   "mimetype": "text/x-python",
   "name": "python",
   "nbconvert_exporter": "python",
   "pygments_lexer": "ipython3",
   "version": "3.7.1"
  }
 },
 "nbformat": 4,
 "nbformat_minor": 4
}
