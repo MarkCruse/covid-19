{
 "cells": [
  {
   "cell_type": "markdown",
   "metadata": {},
   "source": [
    "### Process KYCOVID-19 confirmed cases from daily press realeases (3-21-2020 format)\n",
    "\n",
    "Data Source: https://governor.ky.gov/news  &  https://governor.ky.gov/attachments/COVID19_Case-Information.pdf  \n",
    "\n",
    "This notebook details how to read a PDF file and convert it to data ready for Pandas"
   ]
  },
  {
   "cell_type": "code",
   "execution_count": 1,
   "metadata": {},
   "outputs": [],
   "source": [
    "import tika\n",
    "from tika import parser\n",
    "import pandas as pd\n",
    "from pathlib import Path"
   ]
  },
  {
   "cell_type": "code",
   "execution_count": 2,
   "metadata": {},
   "outputs": [
    {
     "data": {
      "text/plain": [
       "'/Users/mark/Documents/github-public/covid-19/data/covid19_case_information_03_20_2020.pdf'"
      ]
     },
     "execution_count": 2,
     "metadata": {},
     "output_type": "execute_result"
    }
   ],
   "source": [
    "file_date = '03_21_2020'\n",
    "filePath = Path(\"data\")   # the file path for data\n",
    "full_path = '/Users/mark/Documents/github-public/covid-19/data/covid19_case_information_' + file_date + '.pdf'\n",
    "full_path"
   ]
  },
  {
   "cell_type": "markdown",
   "metadata": {},
   "source": [
    "#### Read the PDF file into the Tika parser"
   ]
  },
  {
   "cell_type": "code",
   "execution_count": 3,
   "metadata": {},
   "outputs": [
    {
     "data": {
      "text/plain": [
       "'COVID-19 case information \\n \\nAs of 5 p.m. March 20 the state’s COVID-19 patient information includes 63 who have tested \\npositive. \\n27 F Harrison recovered \\n69 M Jefferson \\n67 F Harrison \\n40 F Fayette \\n68 M Harrison \\n46 M Fayette \\n60 M Harrison \\n54 F Harrison \\n31 F Fayette \\n51 M Harrison \\n56 M Montgomery \\n80 F Jefferson \\n68 F Jefferson \\n66 M Bourbon passed away \\n53 M Nelson \\n67 F Jefferson \\n47 M Fayette \\n31 M Fayette \\n49 M Clark \\n73 F Jefferson \\n54 M Jefferson \\n51 M Montgomery \\n34 F Jefferson \\n33 F Out of State \\n74 M Jefferson \\n66 M Jefferson \\n69 M Lyon \\n88 F Bourbon \\n27 F Clark \\n51 M Daviess \\n26 F Fayette \\n61 F Franklin \\n50 M Harrison \\n F Henderson \\n66 F Kenton \\n59 F Pulaski \\n73 M Warren \\n61 F Christian \\n F Fayette \\n45 F Jefferson \\n46 F Jefferson \\n F Henderson \\n17 F Jefferson \\n F Warren \\n48 F Pulaski \\n28 M Calloway \\n79 F Jefferson \\n34 M Fayette \\n67 M Fayette \\n55 F Fayette \\n F Jefferson \\n F Jefferson \\n F Jefferson \\n  Jefferson \\n F Jefferson \\n M Jefferson \\n M Jefferson \\n M Anderson \\n F Jefferson \\n F Jefferson \\n M Jefferson \\n F Jefferson \\n F Jefferson \\n \\nAdditional cases and demographics of other cases mentioned were not known by 5 p.m. ET \\nFriday so not all cases are listed.'"
      ]
     },
     "execution_count": 3,
     "metadata": {},
     "output_type": "execute_result"
    }
   ],
   "source": [
    "raw = parser.from_file(full_path)\n",
    "raw = raw['content'].lstrip().rstrip() # Remove leading and trailing spaces\n",
    "raw=raw.replace('\\n\\n','\\n').replace(',','').replace('  ',' ') .replace('  ',' ') .replace('  ',' ') .replace('  ',' ')    # replace all double newline characters with one\n",
    "raw"
   ]
  },
  {
   "cell_type": "markdown",
   "metadata": {},
   "source": [
    "#### Turn the string into a list, breaking on newline character"
   ]
  },
  {
   "cell_type": "code",
   "execution_count": 4,
   "metadata": {},
   "outputs": [
    {
     "data": {
      "text/plain": [
       "[['As of 5 p.m. March 20 the state’s COVID-19 patient information includes 63 who have tested'],\n",
       " ['positive.'],\n",
       " ['27 F Harrison recovered'],\n",
       " ['69 M Jefferson'],\n",
       " ['67 F Harrison'],\n",
       " ['40 F Fayette'],\n",
       " ['68 M Harrison'],\n",
       " ['46 M Fayette'],\n",
       " ['60 M Harrison'],\n",
       " ['54 F Harrison']]"
      ]
     },
     "execution_count": 4,
     "metadata": {},
     "output_type": "execute_result"
    }
   ],
   "source": [
    "string_list = [x.split(',') for x in raw.split(' \\n')]\n",
    "string_list = string_list[2:-2]\n",
    "string_list[:10]"
   ]
  },
  {
   "cell_type": "markdown",
   "metadata": {},
   "source": [
    "#### Convert the list of string lists into a list of lists"
   ]
  },
  {
   "cell_type": "code",
   "execution_count": 5,
   "metadata": {},
   "outputs": [
    {
     "data": {
      "text/plain": [
       "[['As',\n",
       "  'of',\n",
       "  '5 p.m. March 20 the state’s COVID-19 patient information includes 63 who have tested'],\n",
       " ['positive.'],\n",
       " ['27', 'F', 'Harrison recovered'],\n",
       " ['69', 'M', 'Jefferson'],\n",
       " ['67', 'F', 'Harrison'],\n",
       " ['40', 'F', 'Fayette'],\n",
       " ['68', 'M', 'Harrison'],\n",
       " ['46', 'M', 'Fayette'],\n",
       " ['60', 'M', 'Harrison'],\n",
       " ['54', 'F', 'Harrison']]"
      ]
     },
     "execution_count": 5,
     "metadata": {},
     "output_type": "execute_result"
    }
   ],
   "source": [
    "new_list=[]\n",
    "new_string=''\n",
    "for indx, items in enumerate(string_list):\n",
    "    new_string=new_string + (str(items).replace(' ', ',', 2))\n",
    "new_string = new_string.replace(\"'\",\"\").replace('][','\\n').replace('[','')\n",
    "new_list = [x.split(',') for x in new_string.split('\\n')]\n",
    "new_list[:10]"
   ]
  },
  {
   "cell_type": "markdown",
   "metadata": {},
   "source": [
    "#### Create a dataframe from the list of lists"
   ]
  },
  {
   "cell_type": "code",
   "execution_count": 6,
   "metadata": {},
   "outputs": [
    {
     "data": {
      "text/html": [
       "<div>\n",
       "<style scoped>\n",
       "    .dataframe tbody tr th:only-of-type {\n",
       "        vertical-align: middle;\n",
       "    }\n",
       "\n",
       "    .dataframe tbody tr th {\n",
       "        vertical-align: top;\n",
       "    }\n",
       "\n",
       "    .dataframe thead th {\n",
       "        text-align: right;\n",
       "    }\n",
       "</style>\n",
       "<table border=\"1\" class=\"dataframe\">\n",
       "  <thead>\n",
       "    <tr style=\"text-align: right;\">\n",
       "      <th></th>\n",
       "      <th>Age</th>\n",
       "      <th>M/F</th>\n",
       "      <th>County</th>\n",
       "    </tr>\n",
       "  </thead>\n",
       "  <tbody>\n",
       "    <tr>\n",
       "      <th>0</th>\n",
       "      <td>As</td>\n",
       "      <td>of</td>\n",
       "      <td>5 p.m. March 20 the state’s COVID-19 patient i...</td>\n",
       "    </tr>\n",
       "    <tr>\n",
       "      <th>1</th>\n",
       "      <td>positive.</td>\n",
       "      <td>None</td>\n",
       "      <td>None</td>\n",
       "    </tr>\n",
       "    <tr>\n",
       "      <th>2</th>\n",
       "      <td>27</td>\n",
       "      <td>F</td>\n",
       "      <td>Harrison recovered</td>\n",
       "    </tr>\n",
       "    <tr>\n",
       "      <th>3</th>\n",
       "      <td>69</td>\n",
       "      <td>M</td>\n",
       "      <td>Jefferson</td>\n",
       "    </tr>\n",
       "    <tr>\n",
       "      <th>4</th>\n",
       "      <td>67</td>\n",
       "      <td>F</td>\n",
       "      <td>Harrison</td>\n",
       "    </tr>\n",
       "  </tbody>\n",
       "</table>\n",
       "</div>"
      ],
      "text/plain": [
       "         Age   M/F                                             County\n",
       "0         As    of  5 p.m. March 20 the state’s COVID-19 patient i...\n",
       "1  positive.  None                                               None\n",
       "2         27     F                                 Harrison recovered\n",
       "3         69     M                                          Jefferson\n",
       "4         67     F                                           Harrison"
      ]
     },
     "execution_count": 6,
     "metadata": {},
     "output_type": "execute_result"
    }
   ],
   "source": [
    "df = pd.DataFrame(new_list,columns=['Age','M/F','County'])\n",
    "df.head()"
   ]
  },
  {
   "cell_type": "markdown",
   "metadata": {},
   "source": [
    "#### Write dataframe to CSV file"
   ]
  },
  {
   "cell_type": "code",
   "execution_count": 7,
   "metadata": {},
   "outputs": [],
   "source": [
    "file_name = 'ky_'+file_date+'.csv'\n",
    "file_out = filePath.joinpath(file_name)  # path and filename\n",
    "\n",
    "df.to_csv(file_out)  # output to csv"
   ]
  },
  {
   "cell_type": "code",
   "execution_count": 8,
   "metadata": {},
   "outputs": [
    {
     "data": {
      "text/plain": [
       "66"
      ]
     },
     "execution_count": 8,
     "metadata": {},
     "output_type": "execute_result"
    }
   ],
   "source": [
    "len(df)"
   ]
  },
  {
   "cell_type": "code",
   "execution_count": null,
   "metadata": {},
   "outputs": [],
   "source": []
  }
 ],
 "metadata": {
  "kernelspec": {
   "display_name": "Python 3",
   "language": "python",
   "name": "python3"
  },
  "language_info": {
   "codemirror_mode": {
    "name": "ipython",
    "version": 3
   },
   "file_extension": ".py",
   "mimetype": "text/x-python",
   "name": "python",
   "nbconvert_exporter": "python",
   "pygments_lexer": "ipython3",
   "version": "3.7.1"
  }
 },
 "nbformat": 4,
 "nbformat_minor": 4
}
