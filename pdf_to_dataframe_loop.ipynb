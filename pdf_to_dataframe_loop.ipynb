{
 "cells": [
  {
   "cell_type": "markdown",
   "metadata": {},
   "source": [
    "### Process KYCOVID-19 confirmed cases from daily press releases\n",
    "\n",
    "Data Source: https://governor.ky.gov/news  &  https://governor.ky.gov/attachments/COVID19_Case-Information.pdf\n",
    "\n",
    "This notebook processes the PDF documents released by the Govenor of KY from 3-21-2020 to 3-24-2020."
   ]
  },
  {
   "cell_type": "code",
   "execution_count": 1,
   "metadata": {},
   "outputs": [],
   "source": [
    "import tika\n",
    "from tika import parser\n",
    "import pandas as pd\n",
    "from pathlib import Path\n",
    "from datetime import datetime"
   ]
  },
  {
   "cell_type": "markdown",
   "metadata": {},
   "source": [
    "#### Setup variables to use"
   ]
  },
  {
   "cell_type": "code",
   "execution_count": 2,
   "metadata": {},
   "outputs": [],
   "source": [
    "start_date = 20200321  #3-21 is the start date that the pdf became consistent\n",
    "# establish the end_date based on the time of day. Anything prior to 6pm is previous day.\n",
    "#end_date = int(datetime.now().strftime(\"%Y_%m_%d\")) if int(datetime.now().strftime(\"%H\")) > 16 else int(datetime.now().strftime(\"%Y_%m_%d\"))-1 \n",
    "end_date = 20200324\n",
    "current_date = datetime.now().strftime(\"%Y_%m_%d\")\n",
    "filePath = Path(\"data\")   # the file path for data\n",
    "file_path_string = '/Users/mark/Documents/github-public/covid-19/data/'"
   ]
  },
  {
   "cell_type": "markdown",
   "metadata": {},
   "source": [
    "#### Function to process PDF to dataframe"
   ]
  },
  {
   "cell_type": "code",
   "execution_count": 3,
   "metadata": {},
   "outputs": [],
   "source": [
    "def process_pdf(file_to_process, file_date):\n",
    "    raw = parser.from_file(file_to_process)\n",
    "    raw = raw['content'].lstrip().rstrip() # Remove leading and trailing spaces\n",
    "    raw=raw.replace('\\n\\n','\\n')  # replace all double newline characters with one\n",
    "\n",
    "    # Turn the string into a list, breaking on newline character\n",
    "    string_list = [x.split(',') for x in raw.split(' \\n')]\n",
    "    string_list = string_list[2:-2]\n",
    "    #print (string_list[:10])\n",
    "\n",
    "    # Convert the list of string lists into a list of lists\n",
    "    new_list=[]\n",
    "    new_string=''\n",
    "    for indx, items in enumerate(string_list):\n",
    "        new_string=new_string + (str(items).replace(' ', ',', 2))\n",
    "    new_string = new_string.replace(\"'\",\"\").replace('][','\\n').replace('[','')\n",
    "    new_list = [x.split(',') for x in new_string.split('\\n')]\n",
    "    #print (new_list[:10])\n",
    "\n",
    "    # Create a dataframe from the list of lists\n",
    "    df = pd.DataFrame(new_list,columns=['Age','M/F','County'])\n",
    "\n",
    "    # Write dataframe to CSV file\n",
    "    file_name = file_date+'_ky.csv'\n",
    "    file_out = filePath.joinpath(file_name)  # path and filename\n",
    "    df.to_csv(file_out)  # output to csv\n",
    "\n",
    "    print (file_date,'length of dataframe:',len(df))  "
   ]
  },
  {
   "cell_type": "markdown",
   "metadata": {},
   "source": [
    "#### Main processing loop"
   ]
  },
  {
   "cell_type": "code",
   "execution_count": 4,
   "metadata": {},
   "outputs": [
    {
     "name": "stdout",
     "output_type": "stream",
     "text": [
      "20200321 length of dataframe: 86\n",
      "20200322 length of dataframe: 102\n",
      "20200323 length of dataframe: 124\n",
      "20200324 length of dataframe: 157\n"
     ]
    }
   ],
   "source": [
    "for increment in range(start_date, end_date+1):\n",
    "    file_to_process = file_path_string+str(increment)+'_ky_covid19_case_information.pdf'\n",
    "    process_pdf(file_to_process,str(increment))"
   ]
  }
 ],
 "metadata": {
  "kernelspec": {
   "display_name": "Python 3",
   "language": "python",
   "name": "python3"
  },
  "language_info": {
   "codemirror_mode": {
    "name": "ipython",
    "version": 3
   },
   "file_extension": ".py",
   "mimetype": "text/x-python",
   "name": "python",
   "nbconvert_exporter": "python",
   "pygments_lexer": "ipython3",
   "version": "3.7.1"
  }
 },
 "nbformat": 4,
 "nbformat_minor": 4
}
