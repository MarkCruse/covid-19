{
 "cells": [
  {
   "cell_type": "markdown",
   "metadata": {},
   "source": [
    "### Process KYCOVID-19 confirmed cases from 3-20-2020 press realease\n",
    "\n",
    "Data Source: https://governor.ky.gov/news  &  https://governor.ky.gov/attachments/COVID19_Case-Information.pdf  \n",
    "\n",
    "This notebook details how to read a PDF file and convert it to data ready for Pandas"
   ]
  },
  {
   "cell_type": "code",
   "execution_count": 1,
   "metadata": {},
   "outputs": [],
   "source": [
    "import tika\n",
    "from tika import parser\n",
    "import pandas as pd\n",
    "from pathlib import Path"
   ]
  },
  {
   "cell_type": "code",
   "execution_count": 2,
   "metadata": {},
   "outputs": [],
   "source": [
    "filePath = Path(\"data\")"
   ]
  },
  {
   "cell_type": "code",
   "execution_count": 3,
   "metadata": {},
   "outputs": [],
   "source": [
    "# parser needs a full path to pdf doc\n",
    "raw = parser.from_file('/Users/mark/Documents/github-public/covid-19/data/covid19_case_information_03_20_2020.pdf')"
   ]
  },
  {
   "cell_type": "markdown",
   "metadata": {},
   "source": [
    "#### Remove leading and trailing spaces and newline chars"
   ]
  },
  {
   "cell_type": "code",
   "execution_count": 4,
   "metadata": {},
   "outputs": [
    {
     "data": {
      "text/plain": [
       "'COVID-19 case information \\n \\n\\nAs of 5 p.m. March 20, the state’s COVID-19 patient information includes 63 who have tested \\npositive. \\n\\n27        F          Harrison, recovered \\n69        M         Jefferson \\n67        F          Harrison \\n40        F          Fayette \\n68        M         Harrison \\n46        M         Fayette \\n60        M         Harrison \\n54        F          Harrison \\n31        F          Fayette \\n51        M         Harrison \\n56        M         Montgomery \\n80        F          Jefferson \\n68        F          Jefferson \\n66        M         Bourbon, passed away \\n53        M         Nelson \\n67        F          Jefferson \\n47        M         Fayette \\n31        M         Fayette \\n49        M         Clark \\n73        F          Jefferson \\n54        M         Jefferson \\n51        M         Montgomery \\n34        F          Jefferson \\n33        F          Out of State \\n74        M         Jefferson \\n66        M         Jefferson \\n69        M         Lyon \\n88        F          Bourbon \\n27        F          Clark \\n51        M         Daviess \\n26        F          Fayette \\n61        F          Franklin \\n\\n50        M         Harrison \\n            F          Henderson \\n66        F          Kenton \\n59        F          Pulaski \\n73        M         Warren \\n61        F          Christian \\n            F          Fayette \\n45        F          Jefferson \\n46        F          Jefferson \\n            F          Henderson \\n17        F          Jefferson \\n            F          Warren \\n48        F          Pulaski \\n28        M         Calloway \\n79        F          Jefferson \\n34        M         Fayette \\n67        M         Fayette \\n55        F          Fayette \\n            F          Jefferson \\n            F          Jefferson \\n            F          Jefferson \\n                        Jefferson \\n            F          Jefferson \\n            M         Jefferson \\n            M         Jefferson \\n            M         Anderson \\n            F          Jefferson \\n            F          Jefferson \\n            M         Jefferson \\n            F          Jefferson \\n            F          Jefferson \\n\\n \\n\\nAdditional cases and demographics of other cases mentioned were not known by 5 p.m. ET \\nFriday so not all cases are listed.'"
      ]
     },
     "execution_count": 4,
     "metadata": {},
     "output_type": "execute_result"
    }
   ],
   "source": [
    "raw=raw['content'].lstrip().rstrip()\n",
    "raw"
   ]
  },
  {
   "cell_type": "code",
   "execution_count": 5,
   "metadata": {},
   "outputs": [
    {
     "data": {
      "text/plain": [
       "'COVID-19 case information\\nAs of 5 p.m. March 20 the state’s COVID-19 patient information includes 63 who have tested\\npositive.\\n27        F          Harrison recovered\\n69        M         Jefferson\\n67        F          Harrison\\n40        F          Fayette\\n68        M         Harrison\\n46        M         Fayette\\n60        M         Harrison\\n54        F          Harrison\\n31        F          Fayette\\n51        M         Harrison\\n56        M         Montgomery\\n80        F          Jefferson\\n68        F          Jefferson\\n66        M         Bourbon passed away\\n53        M         Nelson\\n67        F          Jefferson\\n47        M         Fayette\\n31        M         Fayette\\n49        M         Clark\\n73        F          Jefferson\\n54        M         Jefferson\\n51        M         Montgomery\\n34        F          Jefferson\\n33        F          Out of State\\n74        M         Jefferson\\n66        M         Jefferson\\n69        M         Lyon\\n88        F          Bourbon\\n27        F          Clark\\n51        M         Daviess\\n26        F          Fayette\\n61        F          Franklin\\n50        M         Harrison\\n            F          Henderson\\n66        F          Kenton\\n59        F          Pulaski\\n73        M         Warren\\n61        F          Christian\\n            F          Fayette\\n45        F          Jefferson\\n46        F          Jefferson\\n            F          Henderson\\n17        F          Jefferson\\n            F          Warren\\n48        F          Pulaski\\n28        M         Calloway\\n79        F          Jefferson\\n34        M         Fayette\\n67        M         Fayette\\n55        F          Fayette\\n            F          Jefferson\\n            F          Jefferson\\n            F          Jefferson\\n                        Jefferson\\n            F          Jefferson\\n            M         Jefferson\\n            M         Jefferson\\n            M         Anderson\\n            F          Jefferson\\n            F          Jefferson\\n            M         Jefferson\\n            F          Jefferson\\n            F          Jefferson\\nAdditional cases and demographics of other cases mentioned were not known by 5 p.m. ET\\nFriday so not all cases are listed.'"
      ]
     },
     "execution_count": 5,
     "metadata": {},
     "output_type": "execute_result"
    }
   ],
   "source": [
    "raw=raw.replace(' \\n\\n', '\\n').replace(' \\n\\n', '\\n').replace('\\n\\n', '\\n').replace(' \\n','\\n').replace(', ',' ')\n",
    "raw"
   ]
  },
  {
   "cell_type": "code",
   "execution_count": 6,
   "metadata": {},
   "outputs": [
    {
     "data": {
      "text/plain": [
       "'COVID-19 case information\\nAs of 5 p.m. March 20 the state’s COVID-19 patient information includes 63 who have tested\\npositive.\\n27,F,Harrison recovered\\n69,M,Jefferson\\n67,F,Harrison\\n40,F,Fayette\\n68,M,Harrison\\n46,M,Fayette\\n60,M,Harrison\\n54,F,Harrison\\n31,F,Fayette\\n51,M,Harrison\\n56,M,Montgomery\\n80,F,Jefferson\\n68,F,Jefferson\\n66,M,Bourbon passed away\\n53,M,Nelson\\n67,F,Jefferson\\n47,M,Fayette\\n31,M,Fayette\\n49,M,Clark\\n73,F,Jefferson\\n54,M,Jefferson\\n51,M,Montgomery\\n34,F,Jefferson\\n33,F,Out of State\\n74,M,Jefferson\\n66,M,Jefferson\\n69,M,Lyon\\n88,F,Bourbon\\n27,F,Clark\\n51,M,Daviess\\n26,F,Fayette\\n61,F,Franklin\\n50,M,Harrison\\n,F,Henderson\\n66,F,Kenton\\n59,F,Pulaski\\n73,M,Warren\\n61,F,Christian\\n,F,Fayette\\n45,F,Jefferson\\n46,F,Jefferson\\n,F,Henderson\\n17,F,Jefferson\\n,F,Warren\\n48,F,Pulaski\\n28,M,Calloway\\n79,F,Jefferson\\n34,M,Fayette\\n67,M,Fayette\\n55,F,Fayette\\n,F,Jefferson\\n,F,Jefferson\\n,F,Jefferson\\n,Jefferson\\n,F,Jefferson\\n,M,Jefferson\\n,M,Jefferson\\n,M,Anderson\\n,F,Jefferson\\n,F,Jefferson\\n,M,Jefferson\\n,F,Jefferson\\n,F,Jefferson\\nAdditional cases and demographics of other cases mentioned were not known by 5 p.m. ET\\nFriday so not all cases are listed.'"
      ]
     },
     "execution_count": 6,
     "metadata": {},
     "output_type": "execute_result"
    }
   ],
   "source": [
    "while '   ' in raw:\n",
    "    raw = raw.replace('   ', '  ')\n",
    "raw = raw.replace('  ',',')\n",
    "raw"
   ]
  },
  {
   "cell_type": "code",
   "execution_count": 7,
   "metadata": {},
   "outputs": [
    {
     "data": {
      "text/plain": [
       "[['27', 'F', 'Harrison recovered'],\n",
       " ['69', 'M', 'Jefferson'],\n",
       " ['67', 'F', 'Harrison'],\n",
       " ['40', 'F', 'Fayette'],\n",
       " ['68', 'M', 'Harrison'],\n",
       " ['46', 'M', 'Fayette'],\n",
       " ['60', 'M', 'Harrison'],\n",
       " ['54', 'F', 'Harrison'],\n",
       " ['31', 'F', 'Fayette'],\n",
       " ['51', 'M', 'Harrison']]"
      ]
     },
     "execution_count": 7,
     "metadata": {},
     "output_type": "execute_result"
    }
   ],
   "source": [
    "string_list = [x.split(',') for x in raw.split('\\n')]\n",
    "string_list = string_list[3:-2]\n",
    "string_list[:10]"
   ]
  },
  {
   "cell_type": "code",
   "execution_count": 8,
   "metadata": {},
   "outputs": [
    {
     "data": {
      "text/html": [
       "<div>\n",
       "<style scoped>\n",
       "    .dataframe tbody tr th:only-of-type {\n",
       "        vertical-align: middle;\n",
       "    }\n",
       "\n",
       "    .dataframe tbody tr th {\n",
       "        vertical-align: top;\n",
       "    }\n",
       "\n",
       "    .dataframe thead th {\n",
       "        text-align: right;\n",
       "    }\n",
       "</style>\n",
       "<table border=\"1\" class=\"dataframe\">\n",
       "  <thead>\n",
       "    <tr style=\"text-align: right;\">\n",
       "      <th></th>\n",
       "      <th>Age</th>\n",
       "      <th>M/F</th>\n",
       "      <th>County</th>\n",
       "    </tr>\n",
       "  </thead>\n",
       "  <tbody>\n",
       "    <tr>\n",
       "      <th>0</th>\n",
       "      <td>27</td>\n",
       "      <td>F</td>\n",
       "      <td>Harrison recovered</td>\n",
       "    </tr>\n",
       "    <tr>\n",
       "      <th>1</th>\n",
       "      <td>69</td>\n",
       "      <td>M</td>\n",
       "      <td>Jefferson</td>\n",
       "    </tr>\n",
       "    <tr>\n",
       "      <th>2</th>\n",
       "      <td>67</td>\n",
       "      <td>F</td>\n",
       "      <td>Harrison</td>\n",
       "    </tr>\n",
       "    <tr>\n",
       "      <th>3</th>\n",
       "      <td>40</td>\n",
       "      <td>F</td>\n",
       "      <td>Fayette</td>\n",
       "    </tr>\n",
       "    <tr>\n",
       "      <th>4</th>\n",
       "      <td>68</td>\n",
       "      <td>M</td>\n",
       "      <td>Harrison</td>\n",
       "    </tr>\n",
       "    <tr>\n",
       "      <th>...</th>\n",
       "      <td>...</td>\n",
       "      <td>...</td>\n",
       "      <td>...</td>\n",
       "    </tr>\n",
       "    <tr>\n",
       "      <th>58</th>\n",
       "      <td></td>\n",
       "      <td>F</td>\n",
       "      <td>Jefferson</td>\n",
       "    </tr>\n",
       "    <tr>\n",
       "      <th>59</th>\n",
       "      <td></td>\n",
       "      <td>F</td>\n",
       "      <td>Jefferson</td>\n",
       "    </tr>\n",
       "    <tr>\n",
       "      <th>60</th>\n",
       "      <td></td>\n",
       "      <td>M</td>\n",
       "      <td>Jefferson</td>\n",
       "    </tr>\n",
       "    <tr>\n",
       "      <th>61</th>\n",
       "      <td></td>\n",
       "      <td>F</td>\n",
       "      <td>Jefferson</td>\n",
       "    </tr>\n",
       "    <tr>\n",
       "      <th>62</th>\n",
       "      <td></td>\n",
       "      <td>F</td>\n",
       "      <td>Jefferson</td>\n",
       "    </tr>\n",
       "  </tbody>\n",
       "</table>\n",
       "<p>63 rows × 3 columns</p>\n",
       "</div>"
      ],
      "text/plain": [
       "   Age M/F              County\n",
       "0   27   F  Harrison recovered\n",
       "1   69   M           Jefferson\n",
       "2   67   F            Harrison\n",
       "3   40   F             Fayette\n",
       "4   68   M            Harrison\n",
       "..  ..  ..                 ...\n",
       "58       F           Jefferson\n",
       "59       F           Jefferson\n",
       "60       M           Jefferson\n",
       "61       F           Jefferson\n",
       "62       F           Jefferson\n",
       "\n",
       "[63 rows x 3 columns]"
      ]
     },
     "execution_count": 8,
     "metadata": {},
     "output_type": "execute_result"
    }
   ],
   "source": [
    "df_ky_03_20_2020 = pd.DataFrame(string_list,columns=['Age','M/F','County'])\n",
    "df_ky_03_20_2020"
   ]
  },
  {
   "cell_type": "raw",
   "metadata": {},
   "source": [
    "file_out = filePath.joinpath('ky_03_20_2020.csv')  # path and filename\n",
    "\n",
    "df_ky_03_20_2020.to_csv(file_out, index=False)  # output to csv"
   ]
  }
 ],
 "metadata": {
  "kernelspec": {
   "display_name": "Python 3",
   "language": "python",
   "name": "python3"
  },
  "language_info": {
   "codemirror_mode": {
    "name": "ipython",
    "version": 3
   },
   "file_extension": ".py",
   "mimetype": "text/x-python",
   "name": "python",
   "nbconvert_exporter": "python",
   "pygments_lexer": "ipython3",
   "version": "3.7.1"
  }
 },
 "nbformat": 4,
 "nbformat_minor": 4
}
